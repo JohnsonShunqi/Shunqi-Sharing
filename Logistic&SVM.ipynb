{
 "cells": [
  {
   "cell_type": "markdown",
   "metadata": {},
   "source": [
    "# SVM and Logistic on MNIST"
   ]
  },
  {
   "cell_type": "code",
   "execution_count": null,
   "metadata": {},
   "outputs": [],
   "source": [
    "import numpy as np\n",
    "import pandas as pd\n",
    "from sklearn.model_selection import train_test_split\n",
    "from sklearn.svm import SVC\n",
    "from sklearn.metrics import confusion_matrix\n",
    "from sklearn.model_selection import validation_curve\n",
    "from sklearn.model_selection import KFold\n",
    "from sklearn.model_selection import cross_val_score\n",
    "from sklearn.model_selection import GridSearchCV\n",
    "import matplotlib.pyplot as plt\n",
    "import seaborn as sns"
   ]
  },
  {
   "cell_type": "code",
   "execution_count": 2,
   "metadata": {},
   "outputs": [
    {
     "name": "stdout",
     "output_type": "stream",
     "text": [
      "(60000, 785)\n",
      "(10000, 785)\n"
     ]
    }
   ],
   "source": [
    "train_data = pd.read_csv(\"/Users/J.J./Desktop/mnist_train.csv\") \n",
    "test_data = pd.read_csv(\"/Users/J.J./Desktop/mnist_test.csv\")\n",
    "test_Data = test_data.drop('label',axis=1)\n",
    "print(train_data.shape)\n",
    "print(test_data.shape)"
   ]
  },
  {
   "cell_type": "code",
   "execution_count": 3,
   "metadata": {},
   "outputs": [
    {
     "data": {
      "text/plain": [
       "1    6742\n",
       "7    6265\n",
       "3    6131\n",
       "2    5958\n",
       "9    5949\n",
       "0    5923\n",
       "6    5918\n",
       "8    5851\n",
       "4    5842\n",
       "5    5421\n",
       "Name: label, dtype: int64"
      ]
     },
     "execution_count": 3,
     "metadata": {},
     "output_type": "execute_result"
    },
    {
     "data": {
      "image/png": "[encoded data removed]",
      "text/plain": [
       "<Figure size 432x288 with 1 Axes>"
      ]
     },
     "metadata": {
      "needs_background": "light"
     },
     "output_type": "display_data"
    }
   ],
   "source": [
    "plt.plot(figure = (16,10))\n",
    "g = sns.countplot( train_data[\"label\"], palette = 'icefire')\n",
    "plt.title('NUmber of digit classes')\n",
    "train_data.label.astype('category').value_counts()"
   ]
  },
  {
   "cell_type": "code",
   "execution_count": 4,
   "metadata": {},
   "outputs": [
    {
     "data": {
      "text/plain": [
       "1x1      0.0\n",
       "1x2      0.0\n",
       "1x3      0.0\n",
       "1x4      0.0\n",
       "1x5      0.0\n",
       "        ... \n",
       "28x24    0.0\n",
       "28x25    0.0\n",
       "28x26    0.0\n",
       "28x27    0.0\n",
       "28x28    0.0\n",
       "Length: 784, dtype: float64"
      ]
     },
     "execution_count": 4,
     "metadata": {},
     "output_type": "execute_result"
    }
   ],
   "source": [
    "round(train_data.drop('label', axis=1).mean(), 2)\n"
   ]
  },
  {
   "cell_type": "code",
   "execution_count": 5,
   "metadata": {},
   "outputs": [
    {
     "name": "stdout",
     "output_type": "stream",
     "text": [
      "(60000, 785)\n"
     ]
    }
   ],
   "source": [
    "y = train_data['label']\n",
    "z = test_data['label']\n",
    "\n",
    "## Dropping the variable 'label' from X variable \n",
    "X = train_data.drop(columns = 'label')\n",
    "T = test_data.drop(columns = 'label')\n",
    "\n",
    "## Printing the size of data \n",
    "print(train_data.shape)"
   ]
  },
  {
   "cell_type": "code",
   "execution_count": 6,
   "metadata": {},
   "outputs": [
    {
     "name": "stdout",
     "output_type": "stream",
     "text": [
      "X: (60000, 784)\n",
      "T: (10000, 784)\n",
      "test_data: (10000, 785)\n"
     ]
    }
   ],
   "source": [
    "X = X/255.0\n",
    "T = T/255.0\n",
    "test_data = test_data/255.0\n",
    "\n",
    "print(\"X:\", X.shape)\n",
    "print(\"T:\", T.shape)\n",
    "print(\"test_data:\", test_data.shape)"
   ]
  },
  {
   "cell_type": "code",
   "execution_count": 7,
   "metadata": {},
   "outputs": [],
   "source": [
    "from sklearn.preprocessing import scale\n",
    "X_scaled = scale(X)\n",
    "T_scaled = scale(T)\n",
    "X_train, X_test, y_train, y_test = train_test_split(X_scaled, y, test_size = 0.3, train_size = 0.2 ,random_state = 10)"
   ]
  },
  {
   "cell_type": "code",
   "execution_count": 8,
   "metadata": {},
   "outputs": [],
   "source": [
    "# linear model\n",
    "model_linear = SVC(kernel='linear')\n",
    "model_linear.fit(X_train, y_train)\n",
    "\n",
    "# predict\n",
    "y_pred = model_linear.predict(T_scaled)\n"
   ]
  },
  {
   "cell_type": "code",
   "execution_count": 9,
   "metadata": {},
   "outputs": [
    {
     "name": "stdout",
     "output_type": "stream",
     "text": [
      "accuracy: 0.9167 \n",
      "\n",
      "[[ 952    0    6    1    1   12    5    1    2    0]\n",
      " [   1 1119    3    2    1    2    3    1    3    0]\n",
      " [   6    5  944   23    9    2   10   10   22    1]\n",
      " [   8    0   24  904    1   34    1    7   27    4]\n",
      " [   1    1   10    1  929    1    7    4    2   26]\n",
      " [   7    1    9   45    7  780   13    1   25    4]\n",
      " [  11    3   15    0    9   22  894    2    2    0]\n",
      " [   2    9   18   13   13    0    0  936    1   36]\n",
      " [  14   11   17   34    7   32    9   11  829   10]\n",
      " [   7    6    4    8   58    5    1   31    9  880]]\n"
     ]
    }
   ],
   "source": [
    "from sklearn import metrics\n",
    "from sklearn.metrics import confusion_matrix\n",
    "# accuracy\n",
    "print(\"accuracy:\", metrics.accuracy_score(y_true=z, y_pred=y_pred), \"\\n\")\n",
    "\n",
    "# confusion matrix\n",
    "print(metrics.confusion_matrix(y_true=z, y_pred=y_pred))"
   ]
  },
  {
   "cell_type": "code",
   "execution_count": 10,
   "metadata": {},
   "outputs": [],
   "source": [
    "# non-linear model\n",
    "# using rbf kernel, C=1, default value of gamma\n",
    "\n",
    "non_linear_model = SVC(kernel='rbf')\n",
    "\n",
    "non_linear_model.fit(X_train, y_train)\n",
    "\n",
    "y_pred1 = non_linear_model.predict(T_scaled)"
   ]
  },
  {
   "cell_type": "code",
   "execution_count": 11,
   "metadata": {},
   "outputs": [
    {
     "name": "stdout",
     "output_type": "stream",
     "text": [
      "accuracy: 0.9429 \n",
      "\n",
      "[[ 955    0    9    1    0    3    9    2    1    0]\n",
      " [   0 1123    5    1    1    1    2    1    1    0]\n",
      " [   6    1  981    4    6    0    5   12   17    0]\n",
      " [   0    1   17  945    0   13    1   11   18    4]\n",
      " [   1    1   18    0  926    1    8    6    3   18]\n",
      " [   5    0   11   23    3  819   13    4    9    5]\n",
      " [   9    2   12    0    6    9  919    0    1    0]\n",
      " [   0   11   34    5    2    1    0  951    0   24]\n",
      " [   5    4   19   12    4   13   10    9  893    5]\n",
      " [   4    8   17   15   21    2    0   19    6  917]]\n"
     ]
    }
   ],
   "source": [
    "# accuracy\n",
    "print(\"accuracy:\", metrics.accuracy_score(y_true=z, y_pred=y_pred1), \"\\n\")\n",
    "\n",
    "# confusion matrix\n",
    "print(metrics.confusion_matrix(y_true=z, y_pred=y_pred1))"
   ]
  },
  {
   "cell_type": "code",
   "execution_count": 23,
   "metadata": {},
   "outputs": [],
   "source": [
    "# Logistic Regression\n",
    "from sklearn.linear_model import LogisticRegression\n",
    "\n",
    "logistic_model = LogisticRegression(C=1e5,\n",
    "                         multi_class='multinomial',\n",
    "                         penalty='l2', solver='sag', tol=0.1)\n",
    "logistic_model.fit(X_scaled, y)\n",
    "\n",
    "y_pred2 = logistic_model.predict(T_scaled)"
   ]
  },
  {
   "cell_type": "code",
   "execution_count": 24,
   "metadata": {},
   "outputs": [
    {
     "name": "stdout",
     "output_type": "stream",
     "text": [
      "accuracy: 0.9 \n",
      "\n",
      "[[ 956    0    1    1    0    9    8    2    3    0]\n",
      " [   0 1105    3    3    1    3    4    0   16    0]\n",
      " [  16   14  889   23   15    1   11   23   36    4]\n",
      " [   6    5   20  895    1   35    6   17   17    8]\n",
      " [   2    7    4    0  919    2   11    2    3   32]\n",
      " [  16    4    4   38   17  745   18   15   28    7]\n",
      " [  15    6   10    0   12   20  890    2    3    0]\n",
      " [   2   24   20    5   10    0    1  929    1   36]\n",
      " [  12   23    9   32   19   35   11   18  799   16]\n",
      " [  16    8    3   14   49    8    0   34    4  873]]\n"
     ]
    }
   ],
   "source": [
    "# accuracy\n",
    "print(\"accuracy:\", metrics.accuracy_score(y_true=z, y_pred=y_pred2), \"\\n\")\n",
    "\n",
    "# confusion matrix\n",
    "print(metrics.confusion_matrix(y_true=z, y_pred=y_pred2))"
   ]
  }
 ],
 "metadata": {
  "kernelspec": {
   "display_name": "Python 3",
   "language": "python",
   "name": "python3"
  },
  "language_info": {
   "codemirror_mode": {
    "name": "ipython",
    "version": 3
   },
   "file_extension": ".py",
   "mimetype": "text/x-python",
   "name": "python",
   "nbconvert_exporter": "python",
   "pygments_lexer": "ipython3",
   "version": "3.7.6"
  }
 },
 "nbformat": 4,
 "nbformat_minor": 4
}
